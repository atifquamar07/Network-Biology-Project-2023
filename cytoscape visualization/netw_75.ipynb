{
  "nbformat": 4,
  "nbformat_minor": 0,
  "metadata": {
    "colab": {
      "provenance": []
    },
    "kernelspec": {
      "name": "python3",
      "display_name": "Python 3"
    },
    "language_info": {
      "name": "python"
    }
  },
  "cells": [
    {
      "cell_type": "markdown",
      "source": [
        "# convert txt to gml"
      ],
      "metadata": {
        "id": "ZHAIbnkL0Iay"
      }
    },
    {
      "cell_type": "code",
      "execution_count": null,
      "metadata": {
        "colab": {
          "base_uri": "https://localhost:8080/"
        },
        "id": "s4Ms1s1p5hFx",
        "outputId": "942031e5-accf-4088-d500-7889a614fb7a"
      },
      "outputs": [
        {
          "output_type": "stream",
          "name": "stdout",
          "text": [
            "Network exported to: network_graph_75.gml\n"
          ]
        }
      ],
      "source": [
        "import networkx as nx\n",
        "\n",
        "# Load the edge list from the text file\n",
        "edge_list_file = \"edge_list_75.txt\"\n",
        "G = nx.read_edgelist(edge_list_file, nodetype=str)\n",
        "\n",
        "# Export the network to a GML file\n",
        "gml_file = \"network_graph_75.gml\"\n",
        "nx.write_gml(G, gml_file)\n",
        "\n",
        "print(\"Network exported to:\", gml_file)\n"
      ]
    },
    {
      "cell_type": "markdown",
      "source": [
        "# random deletion"
      ],
      "metadata": {
        "id": "rK2UMN7o0Mxa"
      }
    },
    {
      "cell_type": "code",
      "source": [
        "import networkx as nx\n",
        "import random\n",
        "\n",
        "# Load the edge list from the text file\n",
        "edge_list_file = \"edge_list_75.txt\"\n",
        "G = nx.read_edgelist(edge_list_file, nodetype=str)\n",
        "\n",
        "# Function to randomly delete edges\n",
        "def random_delete_edges(graph, percentage):\n",
        "    edges_to_delete = random.sample(graph.edges(), int(percentage * graph.number_of_edges()))\n",
        "    graph.remove_edges_from(edges_to_delete)\n",
        "\n",
        "# Specify the percentage of edges to delete (e.g., 30%)\n",
        "deletion_percentage = 0.3\n",
        "\n",
        "# Randomly delete edges\n",
        "random_delete_edges(G, deletion_percentage)\n",
        "\n",
        "# Export the modified network to a GML file\n",
        "gml_file = \"network_with_random_deletions.gml\"\n",
        "nx.write_gml(G, gml_file)\n",
        "\n",
        "print(f\"{deletion_percentage * 100}% of edges randomly deleted.\")\n"
      ],
      "metadata": {
        "colab": {
          "base_uri": "https://localhost:8080/"
        },
        "id": "Qy6cg4f4frrr",
        "outputId": "1a4c80b6-2ef7-4c5f-e6b7-0fb2903036f9"
      },
      "execution_count": 1,
      "outputs": [
        {
          "output_type": "stream",
          "name": "stderr",
          "text": [
            "<ipython-input-1-7be285508e6d>:10: DeprecationWarning: Sampling from a set deprecated\n",
            "since Python 3.9 and will be removed in a subsequent version.\n",
            "  edges_to_delete = random.sample(graph.edges(), int(percentage * graph.number_of_edges()))\n"
          ]
        },
        {
          "output_type": "stream",
          "name": "stdout",
          "text": [
            "30.0% of edges randomly deleted.\n"
          ]
        }
      ]
    }
  ]
}